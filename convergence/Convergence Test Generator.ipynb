{
 "cells": [
  {
   "cell_type": "code",
   "execution_count": 1,
   "metadata": {},
   "outputs": [],
   "source": [
    "import numpy as np\n",
    "import pandas as pd"
   ]
  },
  {
   "cell_type": "markdown",
   "metadata": {},
   "source": [
    "## Goal: creating csv files that can be used to test convergence algorithm"
   ]
  },
  {
   "cell_type": "markdown",
   "metadata": {},
   "source": [
    "### 1. Set up some hyper parameters:\n",
    "    - path: the location you want to store the generated csv of testing data\n",
    "    - task: one of 'Evidence', 'Language', 'Probability', 'Reasoning'\n",
    "    - n_articles: int, number of articles in the test\n",
    "    - n_users: int, number of users in each article\n",
    "    - n_multiple_choice: int, number of multiple choice questions\n",
    "    - n_single_choice: int, number of single choice questions\n",
    "    - random: bool, set to true if you want simulated users generating answers randomly"
   ]
  },
  {
   "cell_type": "markdown",
   "metadata": {},
   "source": [
    "We assume that all questions have four choices"
   ]
  },
  {
   "cell_type": "code",
   "execution_count": 2,
   "metadata": {},
   "outputs": [],
   "source": [
    "path = '.'\n",
    "task = 'Evidence'\n",
    "n_articles = 3\n",
    "n_users = 3\n",
    "n_multiple_choice = 5\n",
    "n_single_choice = 8\n",
    "random = False\n",
    "\n",
    "#Don't change anything below\n",
    "n_question = n_multiple_choice + n_single_choice\n",
    "questions = [] \n",
    "for i in range(n_multiple_choice):\n",
    "    questions += ['Q' + str(i) + '.A' + str(j) for j in range(1, 5)]\n",
    "questions += ['Q' + str(i) for i in range(n_multiple_choice, n_question)]\n",
    "n_question = len(questions)\n"
   ]
  },
  {
   "cell_type": "markdown",
   "metadata": {},
   "source": [
    "### 2. Create the Dataframe "
   ]
  },
  {
   "cell_type": "code",
   "execution_count": 3,
   "metadata": {},
   "outputs": [],
   "source": [
    "# Helper function for random selecting users\n",
    "# Use integers as answer labels for simplicity\n",
    "def rand_users(n_users, n_single_choice, n_multiple_choice, sig_cutoff=[0.5, 0.5], multi_probs=[0.25, 0.25, 0.25, 0.25]):\n",
    "    helper = []\n",
    "    for _ in range(n_users):\n",
    "        helper += (list(np.random.choice(2, size=n_multiple_choice*4, p=sig_cutoff)) + \n",
    "                list(np.random.choice(4, size=n_single_choice, p=multi_probs))) \n",
    "    return helper"
   ]
  },
  {
   "cell_type": "code",
   "execution_count": 5,
   "metadata": {},
   "outputs": [],
   "source": [
    "# Create the dataframe starting with column article_number.\n",
    "col_article_number = np.array([\n",
    "    [i] * n_users * n_question for i in range(n_articles) #article numbers are natural numbers for simplicity\n",
    "]).flatten()\n",
    "df = pd.DataFrame.from_dict({'article_number': col_article_number})\n",
    "\n",
    "# Add column quiz_task_uuid\n",
    "col_quiz_task_uuid = np.array([\n",
    "    np.array([\n",
    "        [i] * n_question for i in range(n_users)\n",
    "    ]).flatten() for _ in range(n_articles)\n",
    "]).flatten()\n",
    "df['quiz_taskrun_uuid'] = col_quiz_task_uuid\n",
    "\n",
    "# Add column 'question_label'\n",
    "df['question_label'] = questions * n_users * n_articles\n",
    "\n",
    "# Add column 'answer_label'\n",
    "if random:\n",
    "    helper = []\n",
    "    for _ in range(n_articles):\n",
    "        helper += rand_users(n_users, n_single_choice, n_multiple_choice) \n",
    "    df['answer_label'] = helper\n",
    "else:\n",
    "    df['answer_label'] = (list(np.random.choice(2, size=n_multiple_choice*4)) + \n",
    "        list(np.random.choice(4, size=n_single_choice))) * n_users * n_articles"
   ]
  },
  {
   "cell_type": "code",
   "execution_count": 7,
   "metadata": {},
   "outputs": [
    {
     "data": {
      "text/html": [
       "<div>\n",
       "<style scoped>\n",
       "    .dataframe tbody tr th:only-of-type {\n",
       "        vertical-align: middle;\n",
       "    }\n",
       "\n",
       "    .dataframe tbody tr th {\n",
       "        vertical-align: top;\n",
       "    }\n",
       "\n",
       "    .dataframe thead th {\n",
       "        text-align: right;\n",
       "    }\n",
       "</style>\n",
       "<table border=\"1\" class=\"dataframe\">\n",
       "  <thead>\n",
       "    <tr style=\"text-align: right;\">\n",
       "      <th></th>\n",
       "      <th>article_number</th>\n",
       "      <th>quiz_taskrun_uuid</th>\n",
       "      <th>question_label</th>\n",
       "      <th>answer_label</th>\n",
       "    </tr>\n",
       "  </thead>\n",
       "  <tbody>\n",
       "    <tr>\n",
       "      <td>168</td>\n",
       "      <td>2</td>\n",
       "      <td>0</td>\n",
       "      <td>Q0.A1</td>\n",
       "      <td>1</td>\n",
       "    </tr>\n",
       "    <tr>\n",
       "      <td>169</td>\n",
       "      <td>2</td>\n",
       "      <td>0</td>\n",
       "      <td>Q0.A2</td>\n",
       "      <td>1</td>\n",
       "    </tr>\n",
       "    <tr>\n",
       "      <td>170</td>\n",
       "      <td>2</td>\n",
       "      <td>0</td>\n",
       "      <td>Q0.A3</td>\n",
       "      <td>1</td>\n",
       "    </tr>\n",
       "    <tr>\n",
       "      <td>171</td>\n",
       "      <td>2</td>\n",
       "      <td>0</td>\n",
       "      <td>Q0.A4</td>\n",
       "      <td>1</td>\n",
       "    </tr>\n",
       "    <tr>\n",
       "      <td>172</td>\n",
       "      <td>2</td>\n",
       "      <td>0</td>\n",
       "      <td>Q1.A1</td>\n",
       "      <td>1</td>\n",
       "    </tr>\n",
       "    <tr>\n",
       "      <td>...</td>\n",
       "      <td>...</td>\n",
       "      <td>...</td>\n",
       "      <td>...</td>\n",
       "      <td>...</td>\n",
       "    </tr>\n",
       "    <tr>\n",
       "      <td>247</td>\n",
       "      <td>2</td>\n",
       "      <td>2</td>\n",
       "      <td>Q8</td>\n",
       "      <td>3</td>\n",
       "    </tr>\n",
       "    <tr>\n",
       "      <td>248</td>\n",
       "      <td>2</td>\n",
       "      <td>2</td>\n",
       "      <td>Q9</td>\n",
       "      <td>1</td>\n",
       "    </tr>\n",
       "    <tr>\n",
       "      <td>249</td>\n",
       "      <td>2</td>\n",
       "      <td>2</td>\n",
       "      <td>Q10</td>\n",
       "      <td>2</td>\n",
       "    </tr>\n",
       "    <tr>\n",
       "      <td>250</td>\n",
       "      <td>2</td>\n",
       "      <td>2</td>\n",
       "      <td>Q11</td>\n",
       "      <td>1</td>\n",
       "    </tr>\n",
       "    <tr>\n",
       "      <td>251</td>\n",
       "      <td>2</td>\n",
       "      <td>2</td>\n",
       "      <td>Q12</td>\n",
       "      <td>1</td>\n",
       "    </tr>\n",
       "  </tbody>\n",
       "</table>\n",
       "<p>84 rows × 4 columns</p>\n",
       "</div>"
      ],
      "text/plain": [
       "     article_number  quiz_taskrun_uuid question_label  answer_label\n",
       "168               2                  0          Q0.A1             1\n",
       "169               2                  0          Q0.A2             1\n",
       "170               2                  0          Q0.A3             1\n",
       "171               2                  0          Q0.A4             1\n",
       "172               2                  0          Q1.A1             1\n",
       "..              ...                ...            ...           ...\n",
       "247               2                  2             Q8             3\n",
       "248               2                  2             Q9             1\n",
       "249               2                  2            Q10             2\n",
       "250               2                  2            Q11             1\n",
       "251               2                  2            Q12             1\n",
       "\n",
       "[84 rows x 4 columns]"
      ]
     },
     "execution_count": 7,
     "metadata": {},
     "output_type": "execute_result"
    }
   ],
   "source": [
    "df[df['article_number'] == 2]"
   ]
  },
  {
   "cell_type": "markdown",
   "metadata": {},
   "source": [
    "### 3. Saving as csv"
   ]
  },
  {
   "cell_type": "code",
   "execution_count": null,
   "metadata": {},
   "outputs": [],
   "source": [
    "# We have generated all columns needed by convergence code. Now saving as a csv for it to use\n",
    "df.to_csv(path + '/' + task + '.csv')"
   ]
  },
  {
   "cell_type": "markdown",
   "metadata": {},
   "source": [
    "## Further improvement\n",
    "\n",
    "1. Better data generation methods; more than uniform or completely random generatoin.\n",
    "2. Allow changing numbers of questions for different articles/tasks."
   ]
  },
  {
   "cell_type": "code",
   "execution_count": null,
   "metadata": {},
   "outputs": [],
   "source": []
  }
 ],
 "metadata": {
  "kernelspec": {
   "display_name": "Python 3",
   "language": "python",
   "name": "python3"
  },
  "language_info": {
   "codemirror_mode": {
    "name": "ipython",
    "version": 3
   },
   "file_extension": ".py",
   "mimetype": "text/x-python",
   "name": "python",
   "nbconvert_exporter": "python",
   "pygments_lexer": "ipython3",
   "version": "3.7.4"
  }
 },
 "nbformat": 4,
 "nbformat_minor": 2
}
