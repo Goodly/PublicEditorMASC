{
 "cells": [
  {
   "cell_type": "code",
   "execution_count": 3,
   "metadata": {},
   "outputs": [],
   "source": [
    "import numpy as np\n",
    "import pandas as pd\n",
    "import random"
   ]
  },
  {
   "cell_type": "markdown",
   "metadata": {},
   "source": [
    "# User Input Generator"
   ]
  },
  {
   "cell_type": "markdown",
   "metadata": {},
   "source": [
    "The purpose of this ipynb is to create functions that will allow the generation of (fake) user inputs based on a given `agreement` value. The `agreement` value is a probabilty (between 0 and 1, inclusive)."
   ]
  },
  {
   "cell_type": "markdown",
   "metadata": {},
   "source": [
    "## Functions"
   ]
  },
  {
   "cell_type": "markdown",
   "metadata": {},
   "source": [
    "### A single question and a single (pseudo) user answer"
   ]
  },
  {
   "cell_type": "markdown",
   "metadata": {},
   "source": [
    "Inputs\n",
    "- `choices`: the list of possible answer choices as strings\n",
    "- `consensus`: the consensus answer(s) as a list. Must be included in `choices`\n",
    "- `agreement`: the probability that a user agrees with the consensus (between 0 and 1, a double)\n",
    "- `numAnswers`: the number of possible answers to the question. A tuple of 2 integers, which correspond to the range of the number of possible answers. Cannot be greater than the total number of choices. Cannot have 0 answer choices possible. Example: (1, 1) means that there is 1 answer; (2, 5) means that there is 2 to 5 answers.\n",
    "\n",
    "Output\n",
    "- the user inputted answer as a list"
   ]
  },
  {
   "cell_type": "code",
   "execution_count": 7,
   "metadata": {},
   "outputs": [],
   "source": [
    "def singleQuestionSingleUser(choices, consensus, agreement, numAnswers):\n",
    "    # TODO: Rethink where to put the checks/function design so that they are only run once for optimal runtime\n",
    "    if type(numAnswers[0]) != int or type(numAnswers[1]) != int:\n",
    "        raise ValueError(\"Number of answers must be integers.\")\n",
    "    if numAnswers[0] > numAnswers[1] or numAnswers[1] > len(choices) or numAnswers[0] <= 0:\n",
    "        raise ValueError(\"Please check the range of number of possible answers.\")\n",
    "        \n",
    "    for c in consensus:\n",
    "        if not c in choices:\n",
    "            raise ValueError(\"Value(s) in `consensus` must be in `choices`.\")\n",
    "        \n",
    "    value = np.random.rand()\n",
    "    if value <= agreement:\n",
    "        return consensus\n",
    "    \n",
    "    numAns = np.random.randint(numAnswers[0], numAnswers[1] + 1)\n",
    "    choices.remove(random.sample(consensus, 1))\n",
    "    return random.sample(choices, numAns)"
   ]
  },
  {
   "cell_type": "markdown",
   "metadata": {},
   "source": [
    "### A single question with multiple (pseudo) user answers -- aka multiple users"
   ]
  },
  {
   "cell_type": "markdown",
   "metadata": {},
   "source": [
    "Loop over `singleQuestionSingleUser`.\n",
    "\n",
    "Inputs\n",
    "- `choices`: the list of possible answer choices as strings\n",
    "- `consensus`: the consensus answer(s) as a list. Must be included in `choices`\n",
    "- `agreement`: the list of probabilities that each individual user agrees with the consensus (between 0 and 1, a double)\n",
    "- `numAnswers`: the number of possible answers to the question. A tuple of 2 integers, which correspond to the range of the number of possible answers. Cannot be greater than the total number of choices. Cannot have 0 answer choices possible. Example: (1, 1) means that there is 1 answer; (2, 5) means that there is 2 to 5 answers.\n",
    "\n",
    "Output\n",
    "- the user answers as a list of lists"
   ]
  },
  {
   "cell_type": "code",
   "execution_count": 16,
   "metadata": {},
   "outputs": [],
   "source": [
    "def singleQuestionMultUsers(choices, consensus, agreement, numAnswers):\n",
    "    answers = []\n",
    "    for a in agreement:\n",
    "        answers.append(singleQuestionSingleUser(choices, consensus, a, numAnswers))\n",
    "    return answers"
   ]
  },
  {
   "cell_type": "markdown",
   "metadata": {},
   "source": [
    "### Multiple Questions & Multiple Users"
   ]
  },
  {
   "cell_type": "markdown",
   "metadata": {},
   "source": [
    "Loop over `singleQuestionMultUsers`.\n",
    "\n",
    "Inputs\n",
    "- `choices`: the list of lists of possible answer choices as strings\n",
    "- `consensus`: the consensus answer(s) as a list of lists. Must be included in `choices`\n",
    "- `agreement`: the list of probabilities that each individual user agrees with the consensus (between 0 and 1, a double)\n",
    "- `numQuestions`: the number of questions, should be equivalent to `len(choices)` and `len(consensus)`\n",
    "- `numAnswers`: the number of possible answers to the question. A list of tuples of 2 integers, which correspond to the range of the number of possible answers. Cannot be greater than the total number of choices. Cannot have 0 answer choices possible. Example: (1, 1) means that there is 1 answer; (2, 5) means that there is 2 to 5 answers.\n",
    "\n",
    "Output\n",
    "- the user answers as a list of lists of lists"
   ]
  },
  {
   "cell_type": "code",
   "execution_count": 17,
   "metadata": {},
   "outputs": [],
   "source": [
    "def MultQuestionMultUsers(choices, consensus, agreement, numQuestions, numAnswers):\n",
    "    if numQuestions != len(choices) or len(choices) != len(consensus) or len(consensus) != len(numAnswers):\n",
    "        raise ValueError(\"Number of questions is not reflected in either `choices` or `consensus` or `numAnswers` or some combination.\")\n",
    "    \n",
    "    answers = []\n",
    "    for a in agreement:\n",
    "        for i in range(numQuestions):\n",
    "            answers.append(singleQuestionSingleUser(choices[i], consensus[i], a, numAnswers[i]))\n",
    "    return answers"
   ]
  },
  {
   "cell_type": "markdown",
   "metadata": {},
   "source": [
    "### Notes"
   ]
  },
  {
   "cell_type": "markdown",
   "metadata": {},
   "source": [
    "- Consider a DataFrame or Series as output to the functions? OR write a toDataFrame function that will convert the list of lists to a DataFrame\n",
    "- How to redesign functions so that the checks are only done once. \n",
    "- Consider condensing the functions (only one single user function -- agreement list of length one is equivalent to only 1 user)\n",
    "- Consider the output of MultQMultU: a list of lists of lists is . . . very confusing"
   ]
  },
  {
   "cell_type": "markdown",
   "metadata": {},
   "source": [
    "## Example Pseudo Data"
   ]
  },
  {
   "cell_type": "code",
   "execution_count": null,
   "metadata": {},
   "outputs": [],
   "source": []
  }
 ],
 "metadata": {
  "kernelspec": {
   "display_name": "Python 3",
   "language": "python",
   "name": "python3"
  },
  "language_info": {
   "codemirror_mode": {
    "name": "ipython",
    "version": 3
   },
   "file_extension": ".py",
   "mimetype": "text/x-python",
   "name": "python",
   "nbconvert_exporter": "python",
   "pygments_lexer": "ipython3",
   "version": "3.6.8"
  }
 },
 "nbformat": 4,
 "nbformat_minor": 2
}
